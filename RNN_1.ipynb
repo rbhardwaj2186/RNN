{
  "nbformat": 4,
  "nbformat_minor": 0,
  "metadata": {
    "colab": {
      "provenance": []
    },
    "kernelspec": {
      "name": "python3",
      "display_name": "Python 3"
    },
    "language_info": {
      "name": "python"
    }
  },
  "cells": [
    {
      "cell_type": "code",
      "execution_count": null,
      "metadata": {
        "id": "8bA9skOeKvYN"
      },
      "outputs": [],
      "source": [
        "# How do we forecast\n",
        "# Because we must use our own predictions, we can't just do model.predict() in\n",
        "# one step\n",
        "\n",
        "# x = last values of train set\n",
        "predictions = []\n",
        "for i in range(length_of_forecast):\n",
        "  x_next = model.predict(x)\n",
        "  predictions.append(x_next)\n",
        "  x = concat(x[1:], x_next)"
      ]
    },
    {
      "cell_type": "code",
      "source": [
        "# Using ANN\n",
        "i = Input(shape=(T,))\n",
        "x = Dense(1)(i)\n",
        "\n",
        "model = Model(i,x)"
      ],
      "metadata": {
        "id": "OCGRuHKXMFC4"
      },
      "execution_count": null,
      "outputs": []
    },
    {
      "cell_type": "code",
      "source": [
        "i = Input(shape=(T,))\n",
        "x = Dense(10, activation='relu') (i)\n",
        "x = Dense(1)(x)\n",
        "\n",
        "model = Model(i, x)"
      ],
      "metadata": {
        "id": "oB0QiDrwMPSg"
      },
      "execution_count": null,
      "outputs": []
    }
  ]
}